{
 "cells": [
  {
   "cell_type": "code",
   "execution_count": 1,
   "metadata": {},
   "outputs": [
    {
     "name": "stderr",
     "output_type": "stream",
     "text": [
      "Using TensorFlow backend.\n"
     ]
    },
    {
     "data": {
      "text/plain": [
       "<module 'src.prepare_data' from '/home/lucas/Desktop/MVA/Audio/projects/oral/src/prepare_data.py'>"
      ]
     },
     "execution_count": 1,
     "metadata": {},
     "output_type": "execute_result"
    }
   ],
   "source": [
    "import os\n",
    "import numpy as np\n",
    "import scipy\n",
    "import librosa\n",
    "from importlib import reload\n",
    "from matplotlib import pyplot as plt\n",
    "\n",
    "import src.prepare_data as pp_data\n",
    "\n",
    "reload(pp_data)"
   ]
  },
  {
   "cell_type": "code",
   "execution_count": 2,
   "metadata": {},
   "outputs": [
    {
     "name": "stdout",
     "output_type": "stream",
     "text": [
      "399\n",
      "399\n"
     ]
    }
   ],
   "source": [
    "pp_data.create_mfb_features('data',16000,20,10)"
   ]
  },
  {
   "cell_type": "code",
   "execution_count": 3,
   "metadata": {},
   "outputs": [],
   "source": [
    "data = pp_data.DataLoader('data',partition='all')\n",
    "X,y = data.__getitem__(0)"
   ]
  },
  {
   "cell_type": "code",
   "execution_count": 4,
   "metadata": {},
   "outputs": [
    {
     "name": "stdout",
     "output_type": "stream",
     "text": [
      "(32, 3680)\n"
     ]
    },
    {
     "data": {
      "text/plain": [
       "<matplotlib.collections.QuadMesh at 0x7f5a519e5898>"
      ]
     },
     "execution_count": 4,
     "metadata": {},
     "output_type": "execute_result"
    },
    {
     "data": {
      "image/png": "[encoded data removed]",
      "text/plain": [
       "<Figure size 432x288 with 1 Axes>"
      ]
     },
     "metadata": {
      "needs_background": "light"
     },
     "output_type": "display_data"
    }
   ],
   "source": [
    "print(X.shape)\n",
    "\n",
    "X = X[0,:].reshape(92,40)\n",
    "\n",
    "xx,yy = np.mgrid[:91,:40]\n",
    "\n",
    "plt.pcolormesh(xx,yy,X[:91,:])"
   ]
  },
  {
   "cell_type": "code",
   "execution_count": 5,
   "metadata": {},
   "outputs": [
    {
     "name": "stdout",
     "output_type": "stream",
     "text": [
      "_________________________________________________________________\n",
      "Layer (type)                 Output Shape              Param #   \n",
      "=================================================================\n",
      "dropout_1 (Dropout)          (None, 3680)              0         \n",
      "_________________________________________________________________\n",
      "dense_1 (Dense)              (None, 1000)              3681000   \n",
      "_________________________________________________________________\n",
      "activation_1 (Activation)    (None, 1000)              0         \n",
      "_________________________________________________________________\n",
      "dropout_2 (Dropout)          (None, 1000)              0         \n",
      "_________________________________________________________________\n",
      "dense_2 (Dense)              (None, 500)               500500    \n",
      "_________________________________________________________________\n",
      "activation_2 (Activation)    (None, 500)               0         \n",
      "_________________________________________________________________\n",
      "dropout_3 (Dropout)          (None, 500)               0         \n",
      "_________________________________________________________________\n",
      "dense_3 (Dense)              (None, 7)                 3507      \n",
      "_________________________________________________________________\n",
      "activation_3 (Activation)    (None, 7)                 0         \n",
      "=================================================================\n",
      "Total params: 4,185,007\n",
      "Trainable params: 4,185,007\n",
      "Non-trainable params: 0\n",
      "_________________________________________________________________\n"
     ]
    },
    {
     "name": "stderr",
     "output_type": "stream",
     "text": [
      "/home/lucas/Desktop/MVA/Audio/projects/oral/src/train.py:20: UserWarning: The semantics of the Keras 2 argument `steps_per_epoch` is not the same as the Keras 1 argument `samples_per_epoch`. `steps_per_epoch` is the number of batches to draw from the generator at each epoch. Basically steps_per_epoch = samples_per_epoch/batch_size. Similarly `nb_val_samples`->`validation_steps` and `val_samples`->`steps` arguments have changed. Update your method calls accordingly.\n",
      "  use_multiprocessing=True,workers=6,callbacks=[eachmodel])\n",
      "/home/lucas/Desktop/MVA/Audio/projects/oral/src/train.py:20: UserWarning: Update your `fit_generator` call to the Keras 2 API: `fit_generator(generator=<src.prepa..., validation_data=<src.prepa..., verbose=1, use_multiprocessing=True, workers=6, callbacks=[<keras.ca..., epochs=3)`\n",
      "  use_multiprocessing=True,workers=6,callbacks=[eachmodel])\n"
     ]
    },
    {
     "name": "stdout",
     "output_type": "stream",
     "text": [
      "Epoch 1/3\n",
      "9/9 [==============================] - 1s 93ms/step - loss: 0.6661 - acc: 0.7192 - val_loss: 0.7133 - val_acc: 0.5714\n",
      "Epoch 2/3\n",
      "9/9 [==============================] - 0s 5ms/step - loss: 0.5419 - acc: 0.9975 - val_loss: 0.7542 - val_acc: 0.5714\n",
      "Epoch 3/3\n",
      "9/9 [==============================] - 0s 21ms/step - loss: 0.3868 - acc: 1.0000 - val_loss: 1.0121 - val_acc: 0.5714\n"
     ]
    }
   ],
   "source": [
    "import src.train as train\n",
    "reload(train)\n",
    "\n",
    "train.main()"
   ]
  },
  {
   "cell_type": "code",
   "execution_count": null,
   "metadata": {},
   "outputs": [],
   "source": []
  }
 ],
 "metadata": {
  "kernelspec": {
   "display_name": "Python 3",
   "language": "python",
   "name": "python3"
  },
  "language_info": {
   "codemirror_mode": {
    "name": "ipython",
    "version": 3
   },
   "file_extension": ".py",
   "mimetype": "text/x-python",
   "name": "python",
   "nbconvert_exporter": "python",
   "pygments_lexer": "ipython3",
   "version": "3.6.7"
  }
 },
 "nbformat": 4,
 "nbformat_minor": 2
}
